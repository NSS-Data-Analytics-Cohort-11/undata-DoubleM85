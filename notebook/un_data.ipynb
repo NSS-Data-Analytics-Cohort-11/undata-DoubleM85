{
 "cells": [
  {
   "cell_type": "code",
   "execution_count": 1,
   "id": "0292574e",
   "metadata": {},
   "outputs": [],
   "source": [
    "import pandas as pd\n",
    "import numpy as np\n",
    "import matplotlib.pyplot as plt\n",
    "import seaborn as sns"
   ]
  },
  {
   "cell_type": "code",
   "execution_count": 2,
   "id": "050aedba",
   "metadata": {},
   "outputs": [],
   "source": [
    "gdp_df = pd.read_csv(\"../data/gdp_percapita.csv\")"
   ]
  },
  {
   "cell_type": "code",
   "execution_count": 3,
   "id": "11232223",
   "metadata": {},
   "outputs": [
    {
     "data": {
      "text/html": [
       "<div>\n",
       "<style scoped>\n",
       "    .dataframe tbody tr th:only-of-type {\n",
       "        vertical-align: middle;\n",
       "    }\n",
       "\n",
       "    .dataframe tbody tr th {\n",
       "        vertical-align: top;\n",
       "    }\n",
       "\n",
       "    .dataframe thead th {\n",
       "        text-align: right;\n",
       "    }\n",
       "</style>\n",
       "<table border=\"1\" class=\"dataframe\">\n",
       "  <thead>\n",
       "    <tr style=\"text-align: right;\">\n",
       "      <th></th>\n",
       "      <th>Country or Area</th>\n",
       "      <th>Year</th>\n",
       "      <th>Value</th>\n",
       "      <th>Value Footnotes</th>\n",
       "    </tr>\n",
       "  </thead>\n",
       "  <tbody>\n",
       "    <tr>\n",
       "      <th>0</th>\n",
       "      <td>Afghanistan</td>\n",
       "      <td>2021</td>\n",
       "      <td>1517.016266</td>\n",
       "      <td>NaN</td>\n",
       "    </tr>\n",
       "    <tr>\n",
       "      <th>1</th>\n",
       "      <td>Afghanistan</td>\n",
       "      <td>2020</td>\n",
       "      <td>1968.341002</td>\n",
       "      <td>NaN</td>\n",
       "    </tr>\n",
       "    <tr>\n",
       "      <th>2</th>\n",
       "      <td>Afghanistan</td>\n",
       "      <td>2019</td>\n",
       "      <td>2079.921861</td>\n",
       "      <td>NaN</td>\n",
       "    </tr>\n",
       "    <tr>\n",
       "      <th>3</th>\n",
       "      <td>Afghanistan</td>\n",
       "      <td>2018</td>\n",
       "      <td>2060.698973</td>\n",
       "      <td>NaN</td>\n",
       "    </tr>\n",
       "    <tr>\n",
       "      <th>4</th>\n",
       "      <td>Afghanistan</td>\n",
       "      <td>2017</td>\n",
       "      <td>2096.093111</td>\n",
       "      <td>NaN</td>\n",
       "    </tr>\n",
       "  </tbody>\n",
       "</table>\n",
       "</div>"
      ],
      "text/plain": [
       "  Country or Area  Year        Value  Value Footnotes\n",
       "0     Afghanistan  2021  1517.016266              NaN\n",
       "1     Afghanistan  2020  1968.341002              NaN\n",
       "2     Afghanistan  2019  2079.921861              NaN\n",
       "3     Afghanistan  2018  2060.698973              NaN\n",
       "4     Afghanistan  2017  2096.093111              NaN"
      ]
     },
     "execution_count": 3,
     "metadata": {},
     "output_type": "execute_result"
    }
   ],
   "source": [
    "gdp_df.head()"
   ]
  },
  {
   "cell_type": "code",
   "execution_count": 4,
   "id": "ac34aeac",
   "metadata": {},
   "outputs": [
    {
     "data": {
      "text/html": [
       "<div>\n",
       "<style scoped>\n",
       "    .dataframe tbody tr th:only-of-type {\n",
       "        vertical-align: middle;\n",
       "    }\n",
       "\n",
       "    .dataframe tbody tr th {\n",
       "        vertical-align: top;\n",
       "    }\n",
       "\n",
       "    .dataframe thead th {\n",
       "        text-align: right;\n",
       "    }\n",
       "</style>\n",
       "<table border=\"1\" class=\"dataframe\">\n",
       "  <thead>\n",
       "    <tr style=\"text-align: right;\">\n",
       "      <th></th>\n",
       "      <th>Country or Area</th>\n",
       "      <th>Year</th>\n",
       "      <th>Value</th>\n",
       "      <th>Value Footnotes</th>\n",
       "    </tr>\n",
       "  </thead>\n",
       "  <tbody>\n",
       "    <tr>\n",
       "      <th>7657</th>\n",
       "      <td>Zimbabwe</td>\n",
       "      <td>1994</td>\n",
       "      <td>2670.106615</td>\n",
       "      <td>NaN</td>\n",
       "    </tr>\n",
       "    <tr>\n",
       "      <th>7658</th>\n",
       "      <td>Zimbabwe</td>\n",
       "      <td>1993</td>\n",
       "      <td>2458.783255</td>\n",
       "      <td>NaN</td>\n",
       "    </tr>\n",
       "    <tr>\n",
       "      <th>7659</th>\n",
       "      <td>Zimbabwe</td>\n",
       "      <td>1992</td>\n",
       "      <td>2468.278257</td>\n",
       "      <td>NaN</td>\n",
       "    </tr>\n",
       "    <tr>\n",
       "      <th>7660</th>\n",
       "      <td>Zimbabwe</td>\n",
       "      <td>1991</td>\n",
       "      <td>2781.787843</td>\n",
       "      <td>NaN</td>\n",
       "    </tr>\n",
       "    <tr>\n",
       "      <th>7661</th>\n",
       "      <td>Zimbabwe</td>\n",
       "      <td>1990</td>\n",
       "      <td>2704.757299</td>\n",
       "      <td>NaN</td>\n",
       "    </tr>\n",
       "  </tbody>\n",
       "</table>\n",
       "</div>"
      ],
      "text/plain": [
       "     Country or Area  Year        Value  Value Footnotes\n",
       "7657        Zimbabwe  1994  2670.106615              NaN\n",
       "7658        Zimbabwe  1993  2458.783255              NaN\n",
       "7659        Zimbabwe  1992  2468.278257              NaN\n",
       "7660        Zimbabwe  1991  2781.787843              NaN\n",
       "7661        Zimbabwe  1990  2704.757299              NaN"
      ]
     },
     "execution_count": 4,
     "metadata": {},
     "output_type": "execute_result"
    }
   ],
   "source": [
    "gdp_df.tail()"
   ]
  },
  {
   "cell_type": "code",
   "execution_count": 5,
   "id": "2dfdde29",
   "metadata": {},
   "outputs": [
    {
     "name": "stdout",
     "output_type": "stream",
     "text": [
      "<class 'pandas.core.frame.DataFrame'>\n",
      "RangeIndex: 7662 entries, 0 to 7661\n",
      "Data columns (total 4 columns):\n",
      " #   Column           Non-Null Count  Dtype  \n",
      "---  ------           --------------  -----  \n",
      " 0   Country or Area  7662 non-null   object \n",
      " 1   Year             7662 non-null   int64  \n",
      " 2   Value            7662 non-null   float64\n",
      " 3   Value Footnotes  0 non-null      float64\n",
      "dtypes: float64(2), int64(1), object(1)\n",
      "memory usage: 239.6+ KB\n"
     ]
    }
   ],
   "source": [
    "gdp_df.info()"
   ]
  },
  {
   "cell_type": "markdown",
   "id": "558f5946",
   "metadata": {},
   "source": [
    "## 5.\n",
    "    7662 Rows, 4 Columns\n",
    "    Country or Area = object,\n",
    "    Year = int64,\n",
    "    Value = float64,\n",
    "    Value Footnotes = float64"
   ]
  },
  {
   "cell_type": "markdown",
   "id": "79ef47a6",
   "metadata": {},
   "source": [
    "## 6. Drop the Value Footnotes column and rename the remaining three to 'Country', 'Year', and 'GDP_Per_Capita'."
   ]
  },
  {
   "cell_type": "code",
   "execution_count": 6,
   "id": "73c456cb",
   "metadata": {},
   "outputs": [
    {
     "data": {
      "text/html": [
       "<div>\n",
       "<style scoped>\n",
       "    .dataframe tbody tr th:only-of-type {\n",
       "        vertical-align: middle;\n",
       "    }\n",
       "\n",
       "    .dataframe tbody tr th {\n",
       "        vertical-align: top;\n",
       "    }\n",
       "\n",
       "    .dataframe thead th {\n",
       "        text-align: right;\n",
       "    }\n",
       "</style>\n",
       "<table border=\"1\" class=\"dataframe\">\n",
       "  <thead>\n",
       "    <tr style=\"text-align: right;\">\n",
       "      <th></th>\n",
       "      <th>Country</th>\n",
       "      <th>Year</th>\n",
       "      <th>GDP_Per_Capita</th>\n",
       "    </tr>\n",
       "  </thead>\n",
       "  <tbody>\n",
       "    <tr>\n",
       "      <th>0</th>\n",
       "      <td>Afghanistan</td>\n",
       "      <td>2021</td>\n",
       "      <td>1517.016266</td>\n",
       "    </tr>\n",
       "    <tr>\n",
       "      <th>1</th>\n",
       "      <td>Afghanistan</td>\n",
       "      <td>2020</td>\n",
       "      <td>1968.341002</td>\n",
       "    </tr>\n",
       "    <tr>\n",
       "      <th>2</th>\n",
       "      <td>Afghanistan</td>\n",
       "      <td>2019</td>\n",
       "      <td>2079.921861</td>\n",
       "    </tr>\n",
       "    <tr>\n",
       "      <th>3</th>\n",
       "      <td>Afghanistan</td>\n",
       "      <td>2018</td>\n",
       "      <td>2060.698973</td>\n",
       "    </tr>\n",
       "    <tr>\n",
       "      <th>4</th>\n",
       "      <td>Afghanistan</td>\n",
       "      <td>2017</td>\n",
       "      <td>2096.093111</td>\n",
       "    </tr>\n",
       "  </tbody>\n",
       "</table>\n",
       "</div>"
      ],
      "text/plain": [
       "       Country  Year  GDP_Per_Capita\n",
       "0  Afghanistan  2021     1517.016266\n",
       "1  Afghanistan  2020     1968.341002\n",
       "2  Afghanistan  2019     2079.921861\n",
       "3  Afghanistan  2018     2060.698973\n",
       "4  Afghanistan  2017     2096.093111"
      ]
     },
     "execution_count": 6,
     "metadata": {},
     "output_type": "execute_result"
    }
   ],
   "source": [
    "gdp_df = gdp_df.drop(columns = ['Value Footnotes'])\n",
    "gdp_df.columns = ['Country', 'Year', 'GDP_Per_Capita']\n",
    "gdp_df.head()"
   ]
  },
  {
   "cell_type": "markdown",
   "id": "ffaacde0",
   "metadata": {},
   "source": [
    "## 7. How many countries have data for all years? Which countries are missing many years of data? Look at the number of observations per year. What do you notice?"
   ]
  },
  {
   "cell_type": "code",
   "execution_count": 13,
   "id": "9a1c1e47",
   "metadata": {},
   "outputs": [
    {
     "data": {
      "text/html": [
       "<div>\n",
       "<style scoped>\n",
       "    .dataframe tbody tr th:only-of-type {\n",
       "        vertical-align: middle;\n",
       "    }\n",
       "\n",
       "    .dataframe tbody tr th {\n",
       "        vertical-align: top;\n",
       "    }\n",
       "\n",
       "    .dataframe thead th {\n",
       "        text-align: right;\n",
       "    }\n",
       "</style>\n",
       "<table border=\"1\" class=\"dataframe\">\n",
       "  <thead>\n",
       "    <tr style=\"text-align: right;\">\n",
       "      <th></th>\n",
       "      <th>Country</th>\n",
       "      <th>count</th>\n",
       "    </tr>\n",
       "  </thead>\n",
       "  <tbody>\n",
       "    <tr>\n",
       "      <th>0</th>\n",
       "      <td>Least developed countries: UN classification</td>\n",
       "      <td>33</td>\n",
       "    </tr>\n",
       "    <tr>\n",
       "      <th>1</th>\n",
       "      <td>Middle East &amp; North Africa</td>\n",
       "      <td>33</td>\n",
       "    </tr>\n",
       "    <tr>\n",
       "      <th>2</th>\n",
       "      <td>Middle East &amp; North Africa (IDA &amp; IBRD)</td>\n",
       "      <td>33</td>\n",
       "    </tr>\n",
       "    <tr>\n",
       "      <th>3</th>\n",
       "      <td>Middle income</td>\n",
       "      <td>33</td>\n",
       "    </tr>\n",
       "    <tr>\n",
       "      <th>4</th>\n",
       "      <td>Mongolia</td>\n",
       "      <td>33</td>\n",
       "    </tr>\n",
       "    <tr>\n",
       "      <th>...</th>\n",
       "      <td>...</td>\n",
       "      <td>...</td>\n",
       "    </tr>\n",
       "    <tr>\n",
       "      <th>237</th>\n",
       "      <td>Kosovo</td>\n",
       "      <td>15</td>\n",
       "    </tr>\n",
       "    <tr>\n",
       "      <th>238</th>\n",
       "      <td>Sint Maarten (Dutch part)</td>\n",
       "      <td>14</td>\n",
       "    </tr>\n",
       "    <tr>\n",
       "      <th>239</th>\n",
       "      <td>Turks and Caicos Islands</td>\n",
       "      <td>12</td>\n",
       "    </tr>\n",
       "    <tr>\n",
       "      <th>240</th>\n",
       "      <td>Somalia</td>\n",
       "      <td>10</td>\n",
       "    </tr>\n",
       "    <tr>\n",
       "      <th>241</th>\n",
       "      <td>Djibouti</td>\n",
       "      <td>10</td>\n",
       "    </tr>\n",
       "  </tbody>\n",
       "</table>\n",
       "<p>242 rows × 2 columns</p>\n",
       "</div>"
      ],
      "text/plain": [
       "                                          Country  count\n",
       "0    Least developed countries: UN classification     33\n",
       "1                      Middle East & North Africa     33\n",
       "2         Middle East & North Africa (IDA & IBRD)     33\n",
       "3                                   Middle income     33\n",
       "4                                        Mongolia     33\n",
       "..                                            ...    ...\n",
       "237                                        Kosovo     15\n",
       "238                     Sint Maarten (Dutch part)     14\n",
       "239                      Turks and Caicos Islands     12\n",
       "240                                       Somalia     10\n",
       "241                                      Djibouti     10\n",
       "\n",
       "[242 rows x 2 columns]"
      ]
     },
     "execution_count": 13,
     "metadata": {},
     "output_type": "execute_result"
    }
   ],
   "source": [
    "c_entries = gdp_df['Country'].value_counts() ##seeing how many times seach country is represeneted\n",
    "c_entries = c_entries.reset_index()\n",
    "c_entries"
   ]
  },
  {
   "cell_type": "code",
   "execution_count": 14,
   "id": "ea5208d4",
   "metadata": {},
   "outputs": [
    {
     "data": {
      "text/html": [
       "<div>\n",
       "<style scoped>\n",
       "    .dataframe tbody tr th:only-of-type {\n",
       "        vertical-align: middle;\n",
       "    }\n",
       "\n",
       "    .dataframe tbody tr th {\n",
       "        vertical-align: top;\n",
       "    }\n",
       "\n",
       "    .dataframe thead th {\n",
       "        text-align: right;\n",
       "    }\n",
       "</style>\n",
       "<table border=\"1\" class=\"dataframe\">\n",
       "  <thead>\n",
       "    <tr style=\"text-align: right;\">\n",
       "      <th></th>\n",
       "      <th>Country</th>\n",
       "      <th>count</th>\n",
       "    </tr>\n",
       "  </thead>\n",
       "  <tbody>\n",
       "    <tr>\n",
       "      <th>0</th>\n",
       "      <td>Least developed countries: UN classification</td>\n",
       "      <td>33</td>\n",
       "    </tr>\n",
       "    <tr>\n",
       "      <th>1</th>\n",
       "      <td>Middle East &amp; North Africa</td>\n",
       "      <td>33</td>\n",
       "    </tr>\n",
       "    <tr>\n",
       "      <th>2</th>\n",
       "      <td>Middle East &amp; North Africa (IDA &amp; IBRD)</td>\n",
       "      <td>33</td>\n",
       "    </tr>\n",
       "    <tr>\n",
       "      <th>3</th>\n",
       "      <td>Middle income</td>\n",
       "      <td>33</td>\n",
       "    </tr>\n",
       "    <tr>\n",
       "      <th>4</th>\n",
       "      <td>Mongolia</td>\n",
       "      <td>33</td>\n",
       "    </tr>\n",
       "    <tr>\n",
       "      <th>...</th>\n",
       "      <td>...</td>\n",
       "      <td>...</td>\n",
       "    </tr>\n",
       "    <tr>\n",
       "      <th>197</th>\n",
       "      <td>Finland</td>\n",
       "      <td>33</td>\n",
       "    </tr>\n",
       "    <tr>\n",
       "      <th>198</th>\n",
       "      <td>Europe &amp; Central Asia (excluding high income)</td>\n",
       "      <td>33</td>\n",
       "    </tr>\n",
       "    <tr>\n",
       "      <th>199</th>\n",
       "      <td>Ghana</td>\n",
       "      <td>33</td>\n",
       "    </tr>\n",
       "    <tr>\n",
       "      <th>200</th>\n",
       "      <td>Euro area</td>\n",
       "      <td>33</td>\n",
       "    </tr>\n",
       "    <tr>\n",
       "      <th>201</th>\n",
       "      <td>Germany</td>\n",
       "      <td>33</td>\n",
       "    </tr>\n",
       "  </tbody>\n",
       "</table>\n",
       "<p>202 rows × 2 columns</p>\n",
       "</div>"
      ],
      "text/plain": [
       "                                           Country  count\n",
       "0     Least developed countries: UN classification     33\n",
       "1                       Middle East & North Africa     33\n",
       "2          Middle East & North Africa (IDA & IBRD)     33\n",
       "3                                    Middle income     33\n",
       "4                                         Mongolia     33\n",
       "..                                             ...    ...\n",
       "197                                        Finland     33\n",
       "198  Europe & Central Asia (excluding high income)     33\n",
       "199                                          Ghana     33\n",
       "200                                      Euro area     33\n",
       "201                                        Germany     33\n",
       "\n",
       "[202 rows x 2 columns]"
      ]
     },
     "execution_count": 14,
     "metadata": {},
     "output_type": "execute_result"
    }
   ],
   "source": [
    "all_years = c_entries[c_entries[\"count\"] == 33] ##getting all countries with all 33 years\n",
    "all_years"
   ]
  },
  {
   "cell_type": "markdown",
   "id": "52574a9d",
   "metadata": {},
   "source": [
    "### 202 countries have all years"
   ]
  },
  {
   "cell_type": "code",
   "execution_count": 16,
   "id": "feebd43f",
   "metadata": {},
   "outputs": [
    {
     "name": "stdout",
     "output_type": "stream",
     "text": [
      "<class 'pandas.core.frame.DataFrame'>\n",
      "Index: 40 entries, 202 to 241\n",
      "Data columns (total 2 columns):\n",
      " #   Column   Non-Null Count  Dtype \n",
      "---  ------   --------------  ----- \n",
      " 0   Country  40 non-null     object\n",
      " 1   count    40 non-null     int64 \n",
      "dtypes: int64(1), object(1)\n",
      "memory usage: 960.0+ bytes\n"
     ]
    }
   ],
   "source": [
    "missing_years = c_entries[c_entries[\"count\"] < 33]  ##finding out how many countries have less than 33 years\n",
    "missing_years.info()"
   ]
  },
  {
   "cell_type": "markdown",
   "id": "4781db5a",
   "metadata": {},
   "source": [
    "### 40 countries are missing years"
   ]
  },
  {
   "cell_type": "code",
   "execution_count": 18,
   "id": "265019ce",
   "metadata": {},
   "outputs": [
    {
     "data": {
      "text/plain": [
       "Year\n",
       "1990    207\n",
       "1991    208\n",
       "1992    210\n",
       "1993    211\n",
       "1994    213\n",
       "1995    223\n",
       "1996    223\n",
       "1997    226\n",
       "1998    226\n",
       "1999    227\n",
       "2000    233\n",
       "2001    234\n",
       "2002    235\n",
       "2003    235\n",
       "2004    236\n",
       "2005    236\n",
       "2006    237\n",
       "2007    237\n",
       "2008    238\n",
       "2009    239\n",
       "2010    239\n",
       "2011    240\n",
       "2012    240\n",
       "2013    242\n",
       "2014    242\n",
       "2015    242\n",
       "2016    242\n",
       "2017    242\n",
       "2018    242\n",
       "2019    242\n",
       "2020    242\n",
       "2021    241\n",
       "2022    232\n",
       "Name: Country, dtype: int64"
      ]
     },
     "execution_count": 18,
     "metadata": {},
     "output_type": "execute_result"
    }
   ],
   "source": [
    "years = gdp_df.groupby(\"Year\")[\"Country\"].count()\n",
    "years"
   ]
  },
  {
   "cell_type": "markdown",
   "id": "e91ba191",
   "metadata": {},
   "source": [
    "### more countries are represented each year until 2021"
   ]
  },
  {
   "cell_type": "markdown",
   "id": "2777ec01",
   "metadata": {},
   "source": [
    "### 8. \n",
    "\n",
    "In this question, you're going to create some plots to show the distribution of GDP per capita for the year 2020. Go to the Python Graph Gallery (https://www.python-graph-gallery.com/) and look at the different types of plots under the Distribution section. Create a histogram, a density plot, a boxplot, and a violin plot. What do you notice when you look at these plots? How do the plots compare and what information can you get out of one type that you can't necessarily get out of the others?"
   ]
  },
  {
   "cell_type": "code",
   "execution_count": 35,
   "id": "1989281e",
   "metadata": {},
   "outputs": [
    {
     "data": {
      "text/html": [
       "<div>\n",
       "<style scoped>\n",
       "    .dataframe tbody tr th:only-of-type {\n",
       "        vertical-align: middle;\n",
       "    }\n",
       "\n",
       "    .dataframe tbody tr th {\n",
       "        vertical-align: top;\n",
       "    }\n",
       "\n",
       "    .dataframe thead th {\n",
       "        text-align: right;\n",
       "    }\n",
       "</style>\n",
       "<table border=\"1\" class=\"dataframe\">\n",
       "  <thead>\n",
       "    <tr style=\"text-align: right;\">\n",
       "      <th></th>\n",
       "      <th>Country</th>\n",
       "      <th>Year</th>\n",
       "      <th>GDP_Per_Capita</th>\n",
       "    </tr>\n",
       "  </thead>\n",
       "  <tbody>\n",
       "    <tr>\n",
       "      <th>4148</th>\n",
       "      <td>Luxembourg</td>\n",
       "      <td>2020</td>\n",
       "      <td>111751.314751</td>\n",
       "    </tr>\n",
       "    <tr>\n",
       "      <th>6108</th>\n",
       "      <td>Singapore</td>\n",
       "      <td>2020</td>\n",
       "      <td>94910.101431</td>\n",
       "    </tr>\n",
       "    <tr>\n",
       "      <th>3279</th>\n",
       "      <td>Ireland</td>\n",
       "      <td>2020</td>\n",
       "      <td>91356.855054</td>\n",
       "    </tr>\n",
       "    <tr>\n",
       "      <th>5746</th>\n",
       "      <td>Qatar</td>\n",
       "      <td>2020</td>\n",
       "      <td>89019.069857</td>\n",
       "    </tr>\n",
       "    <tr>\n",
       "      <th>681</th>\n",
       "      <td>Bermuda</td>\n",
       "      <td>2020</td>\n",
       "      <td>76117.804744</td>\n",
       "    </tr>\n",
       "    <tr>\n",
       "      <th>...</th>\n",
       "      <td>...</td>\n",
       "      <td>...</td>\n",
       "      <td>...</td>\n",
       "    </tr>\n",
       "    <tr>\n",
       "      <th>5074</th>\n",
       "      <td>Niger</td>\n",
       "      <td>2020</td>\n",
       "      <td>1214.546556</td>\n",
       "    </tr>\n",
       "    <tr>\n",
       "      <th>6273</th>\n",
       "      <td>Somalia</td>\n",
       "      <td>2020</td>\n",
       "      <td>1127.418534</td>\n",
       "    </tr>\n",
       "    <tr>\n",
       "      <th>1630</th>\n",
       "      <td>Dem. Rep. Congo</td>\n",
       "      <td>2020</td>\n",
       "      <td>1044.071214</td>\n",
       "    </tr>\n",
       "    <tr>\n",
       "      <th>1217</th>\n",
       "      <td>Central African Republic</td>\n",
       "      <td>2020</td>\n",
       "      <td>847.765012</td>\n",
       "    </tr>\n",
       "    <tr>\n",
       "      <th>973</th>\n",
       "      <td>Burundi</td>\n",
       "      <td>2020</td>\n",
       "      <td>711.355263</td>\n",
       "    </tr>\n",
       "  </tbody>\n",
       "</table>\n",
       "<p>242 rows × 3 columns</p>\n",
       "</div>"
      ],
      "text/plain": [
       "                       Country  Year  GDP_Per_Capita\n",
       "4148                Luxembourg  2020   111751.314751\n",
       "6108                 Singapore  2020    94910.101431\n",
       "3279                   Ireland  2020    91356.855054\n",
       "5746                     Qatar  2020    89019.069857\n",
       "681                    Bermuda  2020    76117.804744\n",
       "...                        ...   ...             ...\n",
       "5074                     Niger  2020     1214.546556\n",
       "6273                   Somalia  2020     1127.418534\n",
       "1630           Dem. Rep. Congo  2020     1044.071214\n",
       "1217  Central African Republic  2020      847.765012\n",
       "973                    Burundi  2020      711.355263\n",
       "\n",
       "[242 rows x 3 columns]"
      ]
     },
     "execution_count": 35,
     "metadata": {},
     "output_type": "execute_result"
    }
   ],
   "source": [
    "y2020 = gdp_df[gdp_df['Year'] == 2020].sort_values('GDP_Per_Capita', ascending=False)\n",
    "y2020"
   ]
  },
  {
   "cell_type": "code",
   "execution_count": 36,
   "id": "932b03ae",
   "metadata": {},
   "outputs": [
    {
     "data": {
      "text/plain": [
       "(array([64., 29., 38., 28., 12., 11.,  7.,  8.,  7., 10.,  7.,  4.,  5.,\n",
       "         3.,  1.,  3.,  1.,  0.,  0.,  1.,  1.,  1.,  0.,  0.,  1.]),\n",
       " array([   711.35526342,   5152.95364294,   9594.55202246,  14036.15040198,\n",
       "         18477.74878149,  22919.34716101,  27360.94554053,  31802.54392005,\n",
       "         36244.14229956,  40685.74067908,  45127.3390586 ,  49568.93743812,\n",
       "         54010.53581763,  58452.13419715,  62893.73257667,  67335.33095619,\n",
       "         71776.9293357 ,  76218.52771522,  80660.12609474,  85101.72447426,\n",
       "         89543.32285377,  93984.92123329,  98426.51961281, 102868.11799233,\n",
       "        107309.71637184, 111751.31475136]),\n",
       " <BarContainer object of 25 artists>)"
      ]
     },
     "execution_count": 36,
     "metadata": {},
     "output_type": "execute_result"
    },
    {
     "data": {
      "image/png": "[encoded data removed]",
      "text/plain": [
       "<Figure size 640x480 with 1 Axes>"
      ]
     },
     "metadata": {},
     "output_type": "display_data"
    }
   ],
   "source": [
    "### histogram using matplotlib\n",
    "\n",
    "plt.hist(y2020.GDP_Per_Capita, bins=25)"
   ]
  },
  {
   "cell_type": "code",
   "execution_count": 37,
   "id": "2fabf48b",
   "metadata": {},
   "outputs": [
    {
     "data": {
      "text/plain": [
       "<Axes: xlabel='GDP_Per_Capita', ylabel='Density'>"
      ]
     },
     "execution_count": 37,
     "metadata": {},
     "output_type": "execute_result"
    },
    {
     "data": {
      "image/png": "[encoded data removed]",
      "text/plain": [
       "<Figure size 640x480 with 1 Axes>"
      ]
     },
     "metadata": {},
     "output_type": "display_data"
    }
   ],
   "source": [
    "### Density plot using seaborn ###\n",
    "\n",
    "sns.kdeplot(y2020['GDP_Per_Capita'])"
   ]
  },
  {
   "cell_type": "code",
   "execution_count": 43,
   "id": "159d50c9",
   "metadata": {},
   "outputs": [
    {
     "data": {
      "text/plain": [
       "<Axes: xlabel='Year', ylabel='GDP_Per_Capita'>"
      ]
     },
     "execution_count": 43,
     "metadata": {},
     "output_type": "execute_result"
    },
    {
     "data": {
      "image/png": "[encoded data removed]",
      "text/plain": [
       "<Figure size 640x480 with 1 Axes>"
      ]
     },
     "metadata": {},
     "output_type": "display_data"
    }
   ],
   "source": [
    "## boxplot using seaborn\n",
    "\n",
    "sns.boxplot(x=y2020[\"Year\"], y=y2020[\"GDP_Per_Capita\"])"
   ]
  },
  {
   "cell_type": "code",
   "execution_count": 39,
   "id": "e6ae9aae",
   "metadata": {},
   "outputs": [
    {
     "data": {
      "text/plain": [
       "<Axes: xlabel='Year', ylabel='GDP_Per_Capita'>"
      ]
     },
     "execution_count": 39,
     "metadata": {},
     "output_type": "execute_result"
    },
    {
     "data": {
      "image/png": "[encoded data removed]",
      "text/plain": [
       "<Figure size 640x480 with 1 Axes>"
      ]
     },
     "metadata": {},
     "output_type": "display_data"
    }
   ],
   "source": [
    "## violin plot using seaborn\n",
    "\n",
    "sns.violinplot(x=y2020[\"Year\"], y=y2020[\"GDP_Per_Capita\"])\n"
   ]
  },
  {
   "cell_type": "markdown",
   "id": "b6bd47d4",
   "metadata": {},
   "source": [
    "### Answer: Histogram provides the most detail by showing the sample size in detail. Violin and Density show sample size in relative terms. Box plot is great at showing the outliers but has no sample size information."
   ]
  },
  {
   "cell_type": "markdown",
   "id": "6189f7a8",
   "metadata": {},
   "source": [
    "### 9. What was the median GDP per capita value in 2020?"
   ]
  },
  {
   "cell_type": "code",
   "execution_count": 40,
   "id": "6f445859",
   "metadata": {},
   "outputs": [
    {
     "data": {
      "text/plain": [
       "13357.997573370474"
      ]
     },
     "execution_count": 40,
     "metadata": {},
     "output_type": "execute_result"
    }
   ],
   "source": [
    "y2020.GDP_Per_Capita.median()"
   ]
  },
  {
   "cell_type": "markdown",
   "id": "cd99c13e",
   "metadata": {},
   "source": [
    "### 13357.99"
   ]
  },
  {
   "cell_type": "markdown",
   "id": "404a5b3a",
   "metadata": {},
   "source": [
    "### 10. For this question, you're going to create some visualizations to compare GDP per capita values for the years 1990, 2000, 2010, and 2020. Start by subsetting your data to just these 4 years into a new DataFrame named gdp_decades. Using this, create the following 4 plots:\n",
    "\t* A boxplot\n",
    "\t* A barplot (check out the Barplot with Seaborn section: https://www.python-graph-gallery.com/barplot/#Seaborn)\n",
    "\t* A scatterplot\n",
    "\t* A scatterplot with a trend line overlaid (see this regplot example: https://www.python-graph-gallery.com/42-custom-linear-regression-fit-seaborn)"
   ]
  },
  {
   "cell_type": "code",
   "execution_count": 41,
   "id": "2e885d56",
   "metadata": {},
   "outputs": [
    {
     "data": {
      "text/html": [
       "<div>\n",
       "<style scoped>\n",
       "    .dataframe tbody tr th:only-of-type {\n",
       "        vertical-align: middle;\n",
       "    }\n",
       "\n",
       "    .dataframe tbody tr th {\n",
       "        vertical-align: top;\n",
       "    }\n",
       "\n",
       "    .dataframe thead th {\n",
       "        text-align: right;\n",
       "    }\n",
       "</style>\n",
       "<table border=\"1\" class=\"dataframe\">\n",
       "  <thead>\n",
       "    <tr style=\"text-align: right;\">\n",
       "      <th></th>\n",
       "      <th>Country</th>\n",
       "      <th>Year</th>\n",
       "      <th>GDP_Per_Capita</th>\n",
       "    </tr>\n",
       "  </thead>\n",
       "  <tbody>\n",
       "    <tr>\n",
       "      <th>1</th>\n",
       "      <td>Afghanistan</td>\n",
       "      <td>2020</td>\n",
       "      <td>1968.341002</td>\n",
       "    </tr>\n",
       "    <tr>\n",
       "      <th>11</th>\n",
       "      <td>Afghanistan</td>\n",
       "      <td>2010</td>\n",
       "      <td>2026.163818</td>\n",
       "    </tr>\n",
       "    <tr>\n",
       "      <th>22</th>\n",
       "      <td>Africa Eastern and Southern</td>\n",
       "      <td>2020</td>\n",
       "      <td>3455.023119</td>\n",
       "    </tr>\n",
       "    <tr>\n",
       "      <th>32</th>\n",
       "      <td>Africa Eastern and Southern</td>\n",
       "      <td>2010</td>\n",
       "      <td>3513.315920</td>\n",
       "    </tr>\n",
       "    <tr>\n",
       "      <th>42</th>\n",
       "      <td>Africa Eastern and Southern</td>\n",
       "      <td>2000</td>\n",
       "      <td>2897.140841</td>\n",
       "    </tr>\n",
       "    <tr>\n",
       "      <th>...</th>\n",
       "      <td>...</td>\n",
       "      <td>...</td>\n",
       "      <td>...</td>\n",
       "    </tr>\n",
       "    <tr>\n",
       "      <th>7628</th>\n",
       "      <td>Zambia</td>\n",
       "      <td>1990</td>\n",
       "      <td>2290.039226</td>\n",
       "    </tr>\n",
       "    <tr>\n",
       "      <th>7631</th>\n",
       "      <td>Zimbabwe</td>\n",
       "      <td>2020</td>\n",
       "      <td>1990.319419</td>\n",
       "    </tr>\n",
       "    <tr>\n",
       "      <th>7641</th>\n",
       "      <td>Zimbabwe</td>\n",
       "      <td>2010</td>\n",
       "      <td>1799.540233</td>\n",
       "    </tr>\n",
       "    <tr>\n",
       "      <th>7651</th>\n",
       "      <td>Zimbabwe</td>\n",
       "      <td>2000</td>\n",
       "      <td>2750.601236</td>\n",
       "    </tr>\n",
       "    <tr>\n",
       "      <th>7661</th>\n",
       "      <td>Zimbabwe</td>\n",
       "      <td>1990</td>\n",
       "      <td>2704.757299</td>\n",
       "    </tr>\n",
       "  </tbody>\n",
       "</table>\n",
       "<p>921 rows × 3 columns</p>\n",
       "</div>"
      ],
      "text/plain": [
       "                          Country  Year  GDP_Per_Capita\n",
       "1                     Afghanistan  2020     1968.341002\n",
       "11                    Afghanistan  2010     2026.163818\n",
       "22    Africa Eastern and Southern  2020     3455.023119\n",
       "32    Africa Eastern and Southern  2010     3513.315920\n",
       "42    Africa Eastern and Southern  2000     2897.140841\n",
       "...                           ...   ...             ...\n",
       "7628                       Zambia  1990     2290.039226\n",
       "7631                     Zimbabwe  2020     1990.319419\n",
       "7641                     Zimbabwe  2010     1799.540233\n",
       "7651                     Zimbabwe  2000     2750.601236\n",
       "7661                     Zimbabwe  1990     2704.757299\n",
       "\n",
       "[921 rows x 3 columns]"
      ]
     },
     "execution_count": 41,
     "metadata": {},
     "output_type": "execute_result"
    }
   ],
   "source": [
    "gdp_decades = gdp_df[gdp_df['Year'].isin([1990, 2000, 2010, 2020])]\n",
    "gdp_decades"
   ]
  },
  {
   "cell_type": "code",
   "execution_count": 45,
   "id": "06534b19",
   "metadata": {},
   "outputs": [
    {
     "data": {
      "text/plain": [
       "<Axes: xlabel='Year', ylabel='GDP_Per_Capita'>"
      ]
     },
     "execution_count": 45,
     "metadata": {},
     "output_type": "execute_result"
    },
    {
     "data": {
      "image/png": "[encoded data removed]",
      "text/plain": [
       "<Figure size 640x480 with 1 Axes>"
      ]
     },
     "metadata": {},
     "output_type": "display_data"
    }
   ],
   "source": [
    "## box plot \n",
    "\n",
    "sns.boxplot(x=gdp_decades[\"Year\"], y=gdp_decades[\"GDP_Per_Capita\"])"
   ]
  },
  {
   "cell_type": "code",
   "execution_count": 60,
   "id": "375c69cb",
   "metadata": {},
   "outputs": [
    {
     "data": {
      "image/png": "[encoded data removed]",
      "text/plain": [
       "<Figure size 640x480 with 1 Axes>"
      ]
     },
     "metadata": {},
     "output_type": "display_data"
    }
   ],
   "source": [
    "sns.barplot(\n",
    "    x=\"Year\", \n",
    "    y=\"GDP_Per_Capita\", \n",
    "    data=gdp_decades, \n",
    "    estimator=sum, \n",
    "    errorbar=None, \n",
    "    color='#344ceb');"
   ]
  },
  {
   "cell_type": "code",
   "execution_count": 63,
   "id": "51e97960",
   "metadata": {},
   "outputs": [
    {
     "data": {
      "image/png": "[encoded data removed]",
      "text/plain": [
       "<Figure size 640x480 with 1 Axes>"
      ]
     },
     "metadata": {},
     "output_type": "display_data"
    }
   ],
   "source": [
    "sns.regplot(\n",
    "    x=gdp_decades[\"Year\"],\n",
    "    y=gdp_decades[\"GDP_Per_Capita\"],\n",
    "    fit_reg=False\n",
    ")\n",
    "plt.show()"
   ]
  },
  {
   "cell_type": "code",
   "execution_count": 64,
   "id": "6121666e",
   "metadata": {},
   "outputs": [
    {
     "data": {
      "image/png": "[encoded data removed]",
      "text/plain": [
       "<Figure size 640x480 with 1 Axes>"
      ]
     },
     "metadata": {},
     "output_type": "display_data"
    }
   ],
   "source": [
    "sns.regplot(\n",
    "    x=gdp_decades[\"Year\"],\n",
    "    y=gdp_decades[\"GDP_Per_Capita\"],\n",
    "\n",
    ")\n",
    "plt.show()"
   ]
  },
  {
   "cell_type": "markdown",
   "id": "51c68b0d",
   "metadata": {},
   "source": [
    "### 11. Which country was the first to have a GDP per capita greater than $100,000?"
   ]
  },
  {
   "cell_type": "code",
   "execution_count": 70,
   "id": "12c838bb",
   "metadata": {},
   "outputs": [],
   "source": [
    "GDP100k = gdp_df[gdp_df['GDP_Per_Capita'] > 100000]"
   ]
  },
  {
   "cell_type": "code",
   "execution_count": 71,
   "id": "6aebaf0f",
   "metadata": {},
   "outputs": [],
   "source": [
    "Earliest = GDP100k['Year'].min()"
   ]
  },
  {
   "cell_type": "code",
   "execution_count": 72,
   "id": "78b75018",
   "metadata": {},
   "outputs": [
    {
     "data": {
      "text/html": [
       "<div>\n",
       "<style scoped>\n",
       "    .dataframe tbody tr th:only-of-type {\n",
       "        vertical-align: middle;\n",
       "    }\n",
       "\n",
       "    .dataframe tbody tr th {\n",
       "        vertical-align: top;\n",
       "    }\n",
       "\n",
       "    .dataframe thead th {\n",
       "        text-align: right;\n",
       "    }\n",
       "</style>\n",
       "<table border=\"1\" class=\"dataframe\">\n",
       "  <thead>\n",
       "    <tr style=\"text-align: right;\">\n",
       "      <th></th>\n",
       "      <th>Country</th>\n",
       "      <th>Year</th>\n",
       "      <th>GDP_Per_Capita</th>\n",
       "    </tr>\n",
       "  </thead>\n",
       "  <tbody>\n",
       "    <tr>\n",
       "      <th>7302</th>\n",
       "      <td>United Arab Emirates</td>\n",
       "      <td>1990</td>\n",
       "      <td>105893.626059</td>\n",
       "    </tr>\n",
       "  </tbody>\n",
       "</table>\n",
       "</div>"
      ],
      "text/plain": [
       "                   Country  Year  GDP_Per_Capita\n",
       "7302  United Arab Emirates  1990   105893.626059"
      ]
     },
     "execution_count": 72,
     "metadata": {},
     "output_type": "execute_result"
    }
   ],
   "source": [
    "First_100k = GDP100k[GDP100k['Year'] == Earliest]\n",
    "First_100k"
   ]
  },
  {
   "cell_type": "markdown",
   "id": "e4d781dd",
   "metadata": {},
   "source": [
    "### Answer: United Arab Emirates"
   ]
  },
  {
   "cell_type": "code",
   "execution_count": null,
   "id": "0bb78f59",
   "metadata": {},
   "outputs": [],
   "source": []
  }
 ],
 "metadata": {
  "kernelspec": {
   "display_name": "Python 3 (ipykernel)",
   "language": "python",
   "name": "python3"
  },
  "language_info": {
   "codemirror_mode": {
    "name": "ipython",
    "version": 3
   },
   "file_extension": ".py",
   "mimetype": "text/x-python",
   "name": "python",
   "nbconvert_exporter": "python",
   "pygments_lexer": "ipython3",
   "version": "3.11.5"
  }
 },
 "nbformat": 4,
 "nbformat_minor": 5
}
